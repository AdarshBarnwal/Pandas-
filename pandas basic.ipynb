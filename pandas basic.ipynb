{
 "cells": [
  {
   "cell_type": "markdown",
   "id": "17db1290-4344-4009-8e46-ccf1e7b46f20",
   "metadata": {},
   "source": [
    "Q1. Ans."
   ]
  },
  {
   "cell_type": "code",
   "execution_count": 1,
   "id": "b9ca631c-dc75-4386-a5b2-60a90c6417a1",
   "metadata": {},
   "outputs": [
    {
     "name": "stdout",
     "output_type": "stream",
     "text": [
      "0     4\n",
      "1     8\n",
      "2    15\n",
      "3    16\n",
      "4    23\n",
      "5    42\n",
      "dtype: int64\n"
     ]
    }
   ],
   "source": [
    "import pandas as pd\n",
    "\n",
    "data = [4, 8, 15, 16, 23, 42]\n",
    "series = pd.Series(data)\n",
    "print(series)\n"
   ]
  },
  {
   "cell_type": "code",
   "execution_count": null,
   "id": "3c5473b5-a946-4f05-960f-eda0887c78ab",
   "metadata": {},
   "outputs": [],
   "source": []
  },
  {
   "cell_type": "markdown",
   "id": "7fd2bd3a-df83-4030-b776-762ada8f2580",
   "metadata": {},
   "source": [
    "Q2.Ans"
   ]
  },
  {
   "cell_type": "code",
   "execution_count": 2,
   "id": "b35717fb-2256-4c11-aeb5-46b414ff4461",
   "metadata": {},
   "outputs": [
    {
     "name": "stdout",
     "output_type": "stream",
     "text": [
      "0     1\n",
      "1     2\n",
      "2     3\n",
      "3     4\n",
      "4     5\n",
      "5     6\n",
      "6     7\n",
      "7     8\n",
      "8     9\n",
      "9    10\n",
      "dtype: int64\n"
     ]
    }
   ],
   "source": [
    "import pandas as pd\n",
    "\n",
    "my_list = [1, 2, 3, 4, 5, 6, 7, 8, 9, 10]\n",
    "series = pd.Series(my_list)\n",
    "print(series)\n"
   ]
  },
  {
   "cell_type": "code",
   "execution_count": null,
   "id": "3717eb29-193c-4749-9358-e46f72e4f29c",
   "metadata": {},
   "outputs": [],
   "source": []
  },
  {
   "cell_type": "markdown",
   "id": "7673fbbb-64e9-40b1-8c4a-8f7fb4306cb7",
   "metadata": {},
   "source": [
    "Q3.Ans"
   ]
  },
  {
   "cell_type": "code",
   "execution_count": 3,
   "id": "927903f5-497d-458c-86f4-09fb99e8c1cf",
   "metadata": {},
   "outputs": [
    {
     "name": "stdout",
     "output_type": "stream",
     "text": [
      "     Name  Age  Gender\n",
      "0   Alice   25  female\n",
      "1     Bob   30    male\n",
      "2  Claire   27  female\n"
     ]
    }
   ],
   "source": [
    "import pandas as pd\n",
    "\n",
    "data = {\n",
    "    'Name': ['Alice', 'Bob', 'Claire'],\n",
    "    'Age': [25, 30, 27],\n",
    "    'Gender': ['female', 'male', 'female']\n",
    "}\n",
    "\n",
    "df = pd.DataFrame(data)\n",
    "print(df)"
   ]
  },
  {
   "cell_type": "code",
   "execution_count": null,
   "id": "3b924fda-52a3-445c-a038-0d8a90c2d866",
   "metadata": {},
   "outputs": [],
   "source": []
  },
  {
   "cell_type": "markdown",
   "id": "8a876357-57c5-4eeb-9944-5b7733aebfa7",
   "metadata": {},
   "source": [
    "Q4.Ans"
   ]
  },
  {
   "cell_type": "code",
   "execution_count": 12,
   "id": "66626b62-a85d-45dd-8f37-ea31f50aa834",
   "metadata": {},
   "outputs": [
    {
     "name": "stdout",
     "output_type": "stream",
     "text": [
      "DataFrame:\n",
      "    Name  Age Gender\n",
      "0    Ram   25   male\n",
      "1  Shyam   30   male\n",
      "2  Kisan   27   male\n",
      "Series - Name:\n",
      "0      Ram\n",
      "1    Shyam\n",
      "2    Kisan\n",
      "Name: Name, dtype: object\n"
     ]
    }
   ],
   "source": [
    "''' a DataFrame is a two-dimensional labeled data structure that can hold data of different types \n",
    "(e.g., numeric, string, boolean) in columns. It is similar to a table or a spreadsheet in which\n",
    "each column represents a variable, and each row represents an observation or a record.\n",
    "\n",
    "A DataFrame can be thought of as a collection of Pandas Series objects, where each Series represents \n",
    "a column of the DataFrame. While a Series is a one-dimensional labeled array that can hold data of a single type, \n",
    "a DataFrame provides a tabular structure that allows for easy manipulation and analysis of data.'''\n",
    "\n",
    "import pandas as pd\n",
    "data = {\n",
    "    'Name': ['Ram', 'Shyam', 'Kisan'],\n",
    "    'Age': [25, 30, 27],\n",
    "    'Gender': ['male', 'male', 'male']\n",
    "}\n",
    "\n",
    "# Create a DataFrame\n",
    "df = pd.DataFrame(data)\n",
    "print(\"DataFrame:\")\n",
    "print(df)\n",
    "# creating series\n",
    "print(\"Series - Name:\")\n",
    "print(name_series)"
   ]
  },
  {
   "cell_type": "code",
   "execution_count": null,
   "id": "df975dae-ee29-4980-9486-46b4ea3ad46c",
   "metadata": {},
   "outputs": [],
   "source": []
  },
  {
   "cell_type": "markdown",
   "id": "b0a9a181-c5aa-4629-a5c1-1b688dd147a2",
   "metadata": {},
   "source": [
    "Q5.Ans"
   ]
  },
  {
   "cell_type": "code",
   "execution_count": 13,
   "id": "0871c0f7-add7-4ef2-b2ea-517b9177a1cc",
   "metadata": {},
   "outputs": [
    {
     "name": "stdout",
     "output_type": "stream",
     "text": [
      "     Name  Age  Gender\n",
      "0   Alice   25  female\n",
      "1     Bob   30    male\n",
      "2  Claire   27  female\n",
      "             Age\n",
      "count   3.000000\n",
      "mean   27.333333\n",
      "std     2.516611\n",
      "min    25.000000\n",
      "25%    26.000000\n",
      "50%    27.000000\n",
      "75%    28.500000\n",
      "max    30.000000\n",
      "Gender\n",
      "female    26.0\n",
      "male      30.0\n",
      "Name: Age, dtype: float64\n"
     ]
    }
   ],
   "source": [
    "#some common functions for use to manipulate data in a DataFrame?\n",
    "1.head() and tail(): These functions allow you to view the first few rows (head()) or the last few rows (tail()) of a DataFrame.\n",
    "  They are useful for quickly inspecting the data.\n",
    "2.info(): This function provides a summary of the DataFrame, including the number of rows, number of columns, column names, and data types.\n",
    "  It is helpful for getting an overview of the DataFrame's structure.\n",
    "3.describe(): This function generates descriptive statistics of the DataFrame, such as count, mean, standard deviation, minimum, maximum, and quartiles.\n",
    "  It provides insights into the distribution and central tendencies of the data.\n",
    "4.shape: This attribute returns a tuple representing the dimensions of the DataFrame, i.e., the number of rows and columns.\n",
    "  It is useful for checking the size of the DataFrame.\n",
    "5.drop(): This function is used to remove rows or columns from a DataFrame. \n",
    "  It is helpful for eliminating unnecessary data or handling missing values.\n",
    "6.groupby(): This function is used for grouping data based on one or more columns in a DataFrame.\n",
    "  It allows performing operations on groups of data, such as calculating aggregates or applying functions.\n",
    "7.sort_values(): This function is used to sort the DataFrame based on one or more columns.\n",
    "  It allows arranging the data in ascending or descending order, facilitating data exploration and analysis.\n",
    "8.apply(): This function is used to apply a function to each element or column of a DataFrame.\n",
    "  It is useful for performing custom operations on the data.\n",
    "\n",
    "\n",
    "\n",
    "import pandas as pd\n",
    "\n",
    "# Create a DataFrame\n",
    "data = {\n",
    "    'Name': ['Alice', 'Bob', 'Claire'],\n",
    "    'Age': [25, 30, 27],\n",
    "    'Gender': ['female', 'male', 'female']\n",
    "}\n",
    "df = pd.DataFrame(data)\n",
    "\n",
    "# Use head() to view the first few rows\n",
    "print(df.head())\n",
    "\n",
    "# Use describe() to get descriptive statistics\n",
    "print(df.describe())\n",
    "\n",
    "# Use groupby() to calculate the average age by gender\n",
    "average_age = df.groupby('Gender')['Age'].mean()\n",
    "print(average_age)\n"
   ]
  },
  {
   "cell_type": "code",
   "execution_count": null,
   "id": "23425475-b32d-4720-8e38-4ab5e5610f1c",
   "metadata": {},
   "outputs": [],
   "source": []
  },
  {
   "cell_type": "markdown",
   "id": "908c75bf-7269-49be-b48f-abddb1682863",
   "metadata": {},
   "source": [
    "Q6.Ans"
   ]
  },
  {
   "cell_type": "code",
   "execution_count": null,
   "id": "eaf01f2d-e80e-4633-8983-8724e87281f6",
   "metadata": {},
   "outputs": [],
   "source": [
    "The Series and DataFrame objects in Pandas are mutable in nature, meaning that their values can be modified after \n",
    "creation. However,the Panel object, which is a 3-dimensional data structure in Pandas, is not mutable.\n",
    "Once a Panel is created, its values cannot be changed directly."
   ]
  },
  {
   "cell_type": "code",
   "execution_count": null,
   "id": "54705c45-623f-4201-bcf0-1f8d046942d7",
   "metadata": {},
   "outputs": [],
   "source": []
  },
  {
   "cell_type": "markdown",
   "id": "10c51664-0257-4296-bf2b-267e6c85f1c9",
   "metadata": {},
   "source": [
    "Q7. Ans "
   ]
  },
  {
   "cell_type": "code",
   "execution_count": 15,
   "id": "062de659-0d19-458d-9f9b-531403c00004",
   "metadata": {},
   "outputs": [
    {
     "name": "stdout",
     "output_type": "stream",
     "text": [
      "DataFrame:-\n",
      "     Name  Age Gender\n",
      "0  Adarsh   21   male\n",
      "1    Ravi   18   male\n",
      "2   Ritik   17   male\n"
     ]
    }
   ],
   "source": [
    "import pandas as pd\n",
    "\n",
    "# Create a Series for each column\n",
    "name = pd.Series(['Adarsh', 'Ravi', 'Ritik'])\n",
    "age = pd.Series([21, 18, 17])\n",
    "gender = pd.Series(['male', 'male', 'male'])\n",
    "\n",
    "# Create a dictionary of Series\n",
    "data = {\n",
    "    'Name': name,\n",
    "    'Age': age,\n",
    "    'Gender': gender\n",
    "}\n",
    "\n",
    "# Create the DataFrame\n",
    "df = pd.DataFrame(data)\n",
    "\n",
    "# Print the DataFrame\n",
    "print(\"DataFrame:-\")\n",
    "print(df)"
   ]
  },
  {
   "cell_type": "code",
   "execution_count": null,
   "id": "9100abd2-8810-4337-ad4e-4a7a0939a1f6",
   "metadata": {},
   "outputs": [],
   "source": []
  }
 ],
 "metadata": {
  "kernelspec": {
   "display_name": "Python 3 (ipykernel)",
   "language": "python",
   "name": "python3"
  },
  "language_info": {
   "codemirror_mode": {
    "name": "ipython",
    "version": 3
   },
   "file_extension": ".py",
   "mimetype": "text/x-python",
   "name": "python",
   "nbconvert_exporter": "python",
   "pygments_lexer": "ipython3",
   "version": "3.10.8"
  }
 },
 "nbformat": 4,
 "nbformat_minor": 5
}
